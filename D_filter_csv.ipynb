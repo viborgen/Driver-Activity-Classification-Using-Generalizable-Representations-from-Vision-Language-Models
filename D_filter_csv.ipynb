{
 "cells": [
  {
   "cell_type": "code",
   "execution_count": null,
   "metadata": {},
   "outputs": [],
   "source": [
    "import pandas as pd\n",
    "import numpy as np\n",
    "from sklearn.metrics import accuracy_score\n",
    "from scipy.stats import mode\n",
    "\n",
    "from sklearn.metrics import ConfusionMatrixDisplay, confusion_matrix\n",
    "import matplotlib.pyplot as plt"
   ]
  },
  {
   "cell_type": "markdown",
   "metadata": {},
   "source": [
    "### Notebook for applying filtering to generated predictions in generated CSV file from step C. "
   ]
  },
  {
   "cell_type": "code",
   "execution_count": null,
   "metadata": {},
   "outputs": [],
   "source": [
    "# Replace 'file.csv' with the path to your CSV file\n",
    "df = pd.read_csv('/home/ubuntu/work/SRLF/data/examples/labels_and_predictions_1.csv')\n",
    "\n",
    "def apply_mode_filter(data, window_size=141):\n",
    "    \"\"\"\n",
    "    Apply a mode filter to the data with the specified window size.\n",
    "    \n",
    "    Parameters:\n",
    "    - data: numpy array of shape (n,)\n",
    "    - window_size: Size of the window to calculate the mode, must be an odd integer\n",
    "    \n",
    "    Returns:\n",
    "    - filtered_data: numpy array of shape (n,) after applying the mode filter\n",
    "    \"\"\"\n",
    "    if window_size % 2 == 0:\n",
    "        raise ValueError(\"Window size must be odd.\")\n",
    "    \n",
    "    half_window = window_size // 2\n",
    "    n = len(data)\n",
    "    dtype = data.dtype if isinstance(data, np.ndarray) else data.cpu().numpy().dtype\n",
    "    filtered_data = np.empty(n, dtype=dtype)\n",
    "    \n",
    "    for i in range(n):\n",
    "        # Calculate the start and end of the window\n",
    "        start = max(0, i - half_window)\n",
    "        end = min(n, i + half_window + 1)\n",
    "        \n",
    "        # Find the mode in the window\n",
    "        window_mode = mode(data[start:end])[0]\n",
    "        \n",
    "        # Assign the mode to the filtered data\n",
    "        filtered_data[i] = window_mode\n",
    "        \n",
    "    return filtered_data\n",
    "\n",
    "\n",
    "from sklearn.metrics import accuracy_score\n",
    "from scipy.stats import mode\n",
    "\n",
    "# Calculate accuracy before applying the mode filter\n",
    "accuracy_before = accuracy_score(df['True Labels'], df['Predicted Labels'])\n",
    "\n",
    "# Apply the mode filter to the 'Predicted Labels' column\n",
    "df['Filtered Predictions'] = apply_mode_filter(df['Predicted Labels'].values)\n",
    "\n",
    "# Calculate accuracy after applying the mode filter\n",
    "accuracy_after = accuracy_score(df['True Labels'], df['Filtered Predictions'])\n",
    "\n",
    "accuracy_before, accuracy_after"
   ]
  },
  {
   "cell_type": "markdown",
   "metadata": {},
   "source": [
    "#### Create Confusion Matrix"
   ]
  },
  {
   "cell_type": "code",
   "execution_count": null,
   "metadata": {},
   "outputs": [],
   "source": [
    "# Compute the confusion matrix\n",
    "cm = confusion_matrix(df['True Labels'], df['Filtered Predictions'])\n",
    "\n",
    "# Normalize the confusion matrix\n",
    "cm = cm.astype('float') / cm.sum(axis=1)[:, np.newaxis]\n",
    "\n",
    "# Round the confusion matrix values to two decimal places\n",
    "cm = np.around(cm, decimals=2)\n",
    "\n",
    "# Increase figure size for better visibility\n",
    "fig, ax = plt.subplots(figsize=(20, 20))  # You can adjust the size as needed\n",
    "\n",
    "# Create the confusion matrix display object\n",
    "disp = ConfusionMatrixDisplay(confusion_matrix=cm, display_labels=np.unique(df['True Labels']))\n",
    "\n",
    "# Use larger font for the numbers inside the boxes\n",
    "plt.rcParams.update({'font.size': 23})  # Adjust font size as needed\n",
    "ax.xaxis.label.set_size(30)\n",
    "ax.yaxis.label.set_size(30)\n",
    "\n",
    "# Use larger font for the numbers inside the boxes\n",
    "plt.rcParams.update({'font.size': 23})  # Adjust font size as needed\n",
    "\n",
    "# Plot the confusion matrix with color map\n",
    "disp.plot(cmap=plt.cm.Blues, values_format='.2f', ax=ax)\n",
    "\n",
    "# Show the confusion matrix\n",
    "plt.show()"
   ]
  }
 ],
 "metadata": {
  "kernelspec": {
   "display_name": "llava",
   "language": "python",
   "name": "python3"
  },
  "language_info": {
   "codemirror_mode": {
    "name": "ipython",
    "version": 3
   },
   "file_extension": ".py",
   "mimetype": "text/x-python",
   "name": "python",
   "nbconvert_exporter": "python",
   "pygments_lexer": "ipython3",
   "version": "3.9.18"
  }
 },
 "nbformat": 4,
 "nbformat_minor": 2
}
